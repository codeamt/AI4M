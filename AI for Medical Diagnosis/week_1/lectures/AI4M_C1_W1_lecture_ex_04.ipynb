{
 "cells": [
  {
   "cell_type": "markdown",
   "metadata": {},
   "source": [
    "## AI for Medicine Course 1 Week 1 lecture exercises"
   ]
  },
  {
   "cell_type": "markdown",
   "metadata": {},
   "source": [
    "<a name=\"patient-overlap\"></a>\n",
    "# Patient Overlap and Data Leakage\n",
    "\n",
    "Patient overlap in medical data is a general problem called **data leakage**.  To identify patient overlap, check to see if a patient's ID appears in both the train set and validation set.\n",
    "\n",
    "Below is a simple example showing how you can check for patient overlap in the coding assignment for this module."
   ]
  },
  {
   "cell_type": "code",
   "execution_count": null,
   "metadata": {},
   "outputs": [],
   "source": [
    "# Define a simple set of patient id numbers\n",
    "# Patient id's for the training set\n",
    "ids_train = [0, 1, 2, 0, 1, 2]\n",
    "# Patient id's for the validation set\n",
    "ids_valid = [2, 3, 4, 2, 3, 4]"
   ]
  },
  {
   "cell_type": "code",
   "execution_count": null,
   "metadata": {},
   "outputs": [],
   "source": [
    "# Create a \"set\" datastructure of the training set id's to identify unique id's\n",
    "ids_train_set = set(ids_train)\n",
    "ids_train_set"
   ]
  },
  {
   "cell_type": "code",
   "execution_count": null,
   "metadata": {},
   "outputs": [],
   "source": [
    "# Create a \"set\" datastructure of the validation set id's to identify unique id's\n",
    "ids_valid_set = set(ids_valid)\n",
    "ids_valid_set"
   ]
  },
  {
   "cell_type": "code",
   "execution_count": null,
   "metadata": {},
   "outputs": [],
   "source": [
    "# Identify patient overlap by looking at the intersection between the sets\n",
    "patient_overlap = ids_train_set.intersection(ids_valid_set)\n",
    "patient_overlap"
   ]
  },
  {
   "cell_type": "markdown",
   "metadata": {},
   "source": [
    "The patient ID '2' appears in both the train set and valid set!"
   ]
  }
 ],
 "metadata": {
  "kernelspec": {
   "display_name": "Python 3",
   "language": "python",
   "name": "python3"
  },
  "language_info": {
   "codemirror_mode": {
    "name": "ipython",
    "version": 3
   },
   "file_extension": ".py",
   "mimetype": "text/x-python",
   "name": "python",
   "nbconvert_exporter": "python",
   "pygments_lexer": "ipython3",
   "version": "3.6.3"
  }
 },
 "nbformat": 4,
 "nbformat_minor": 4
}
